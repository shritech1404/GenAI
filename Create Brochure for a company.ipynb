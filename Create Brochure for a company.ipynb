{
 "cells": [
  {
   "cell_type": "code",
   "execution_count": 1,
   "id": "d5b08506-dc8b-4443-9201-5f1848161363",
   "metadata": {},
   "outputs": [],
   "source": [
    "import os\n",
    "import requests\n",
    "import json\n",
    "from typing import List\n",
    "from dotenv import load_dotenv\n",
    "from bs4 import BeautifulSoup\n",
    "from IPython.display import Markdown, display, update_display\n",
    "from openai import AzureOpenAI"
   ]
  },
  {
   "cell_type": "code",
   "execution_count": 2,
   "id": "fc5d8880-f2ee-4c06-af16-ecbc0262af61",
   "metadata": {},
   "outputs": [],
   "source": [
    "load_dotenv(r\"C:\\Users\\HP\\OneDrive\\Documents\\credentials.env\")\n",
    "api_key = os.environ['API_KEY']\n",
    "api_base = os.environ['RESOURCE_ENDPOINT']\n",
    "chat_model_id=os.environ['chat_model_id']\n",
    "chat_model=os.environ['chat_model']\n",
    "api_type = \"azure\"\n",
    "api_version = \"2023-06-01-preview\"\n",
    "\n",
    "openai = AzureOpenAI(\n",
    "    azure_endpoint=api_base,\n",
    "    api_key=api_key, \n",
    "    api_version=api_version,\n",
    ")"
   ]
  },
  {
   "cell_type": "code",
   "execution_count": 3,
   "id": "106dd65e-90af-4ca8-86b6-23a41840645b",
   "metadata": {},
   "outputs": [],
   "source": [
    "headers = {\n",
    " \"User-Agent\": \"Mozilla/5.0 (Windows NT 10.0; Win64; x64) AppleWebKit/537.36 (KHTML, like Gecko) Chrome/117.0.0.0 Safari/537.36\"\n",
    "}\n",
    "\n",
    "class Website:\n",
    "    \"\"\"\n",
    "    A utility class to represent a Website that we have scraped, now with links\n",
    "    \"\"\"\n",
    "\n",
    "    def __init__(self, url):\n",
    "        self.url = url\n",
    "        response = requests.get(url, headers=headers)\n",
    "        self.body = response.content\n",
    "        soup = BeautifulSoup(self.body, 'html.parser')\n",
    "        self.title = soup.title.string if soup.title else \"No title found\"\n",
    "        if soup.body:\n",
    "            for irrelevant in soup.body([\"script\", \"style\", \"img\", \"input\"]):\n",
    "                irrelevant.decompose()\n",
    "            self.text = soup.body.get_text(separator=\"\\n\", strip=True)\n",
    "        else:\n",
    "            self.text = \"\"\n",
    "        links = [link.get('href') for link in soup.find_all('a')]\n",
    "        self.links = [link for link in links if link]\n",
    "\n",
    "    def get_contents(self):\n",
    "        return f\"Webpage Title:\\n{self.title}\\nWebpage Contents:\\n{self.text}\\n\\n\""
   ]
  },
  {
   "cell_type": "code",
   "execution_count": 4,
   "id": "e30d8128-933b-44cc-81c8-ab4c9d86589a",
   "metadata": {},
   "outputs": [
    {
     "data": {
      "text/plain": [
       "['#content',\n",
       " '/',\n",
       " '/predict-platform/',\n",
       " '/payment-integrity/',\n",
       " '/risk-management/',\n",
       " '/business-intelligence',\n",
       " '/company',\n",
       " '/insights-updates',\n",
       " 'https://amspredict.com/resources/',\n",
       " 'https://amspredict.com/book-demo/',\n",
       " 'https://predict.mdstrat.com',\n",
       " 'https://amspredict.com',\n",
       " '/',\n",
       " '/predict-platform/',\n",
       " '/payment-integrity/',\n",
       " '/risk-management/',\n",
       " '/business-intelligence',\n",
       " '/company',\n",
       " '/insights-updates',\n",
       " 'https://amspredict.com/resources/',\n",
       " 'https://amspredict.com/book-demo/',\n",
       " 'https://predict.mdstrat.com',\n",
       " 'https://amspredict.com',\n",
       " '/book-demo',\n",
       " 'https://predict.mdstrat.com',\n",
       " '/predict-platform/',\n",
       " '/book-demo',\n",
       " '/book-demo',\n",
       " '/payment-integrity',\n",
       " '/risk-management',\n",
       " '/business-intelligence',\n",
       " '/company',\n",
       " '/predict-platform',\n",
       " '/book-demo',\n",
       " '/',\n",
       " 'https://amspredict.com/payment-integrity/',\n",
       " 'https://amspredict.com/risk-management/',\n",
       " 'https://amspredict.com/business-intelligence/',\n",
       " 'https://amspredict.com/payment-integrity/',\n",
       " 'https://amspredict.com/risk-management/',\n",
       " 'https://amspredict.com/business-intelligence/',\n",
       " '/company',\n",
       " 'https://amspredict.com/resources/',\n",
       " 'https://amspredict.com/careers/',\n",
       " '/company',\n",
       " 'https://amspredict.com/resources/',\n",
       " 'https://amspredict.com/careers/',\n",
       " 'tel:855.224.9711',\n",
       " 'tel:781.224.9711',\n",
       " 'mailto:info@amspredict.com',\n",
       " '/',\n",
       " 'https://www.linkedin.com/company/advanced-medical-strategies-llc/',\n",
       " 'https://twitter.com/AMSmdstratcom']"
      ]
     },
     "execution_count": 4,
     "metadata": {},
     "output_type": "execute_result"
    }
   ],
   "source": [
    "data = Website(\"https://amspredict.com/\")\n",
    "data.links"
   ]
  },
  {
   "cell_type": "code",
   "execution_count": 5,
   "id": "6957b079-0d96-45f7-a26a-3487510e9b35",
   "metadata": {},
   "outputs": [],
   "source": [
    "link_system_prompt = \"You are provided with a list of links found on a webpage. \\\n",
    "You are able to decide which of the links would be most relevant to include in a brochure about the company, \\\n",
    "such as links to an About page, or a Company page, or Careers/Jobs pages.\\n\"\n",
    "link_system_prompt += \"You should respond in JSON as in this example:\"\n",
    "link_system_prompt += \"\"\"\n",
    "{\n",
    "    \"links\": [\n",
    "        {\"type\": \"about page\", \"url\": \"https://full.url/goes/here/about\"},\n",
    "        {\"type\": \"careers page\": \"url\": \"https://another.full.url/careers\"}\n",
    "    ]\n",
    "}\n",
    "\"\"\""
   ]
  },
  {
   "cell_type": "code",
   "execution_count": 6,
   "id": "b97e4068-97ed-4120-beae-c42105e4d59a",
   "metadata": {},
   "outputs": [
    {
     "name": "stdout",
     "output_type": "stream",
     "text": [
      "You are provided with a list of links found on a webpage. You are able to decide which of the links would be most relevant to include in a brochure about the company, such as links to an About page, or a Company page, or Careers/Jobs pages.\n",
      "You should respond in JSON as in this example:\n",
      "{\n",
      "    \"links\": [\n",
      "        {\"type\": \"about page\", \"url\": \"https://full.url/goes/here/about\"},\n",
      "        {\"type\": \"careers page\": \"url\": \"https://another.full.url/careers\"}\n",
      "    ]\n",
      "}\n",
      "\n"
     ]
    }
   ],
   "source": [
    "print(link_system_prompt)"
   ]
  },
  {
   "cell_type": "code",
   "execution_count": 7,
   "id": "8e1f601b-2eaf-499d-b6b8-c99050c9d6b3",
   "metadata": {},
   "outputs": [],
   "source": [
    "def get_links_user_prompt(website):\n",
    "    user_prompt = f\"Here is the list of links on the website of {website.url} - \"\n",
    "    user_prompt += \"please decide which of these are relevant web links for a brochure about the company, respond with the full https URL in JSON format. \\\n",
    "Do not include Terms of Service, Privacy, email links.\\n\"\n",
    "    user_prompt += \"Links (some might be relative links):\\n\"\n",
    "    user_prompt += \"\\n\".join(website.links)\n",
    "    return user_prompt"
   ]
  },
  {
   "cell_type": "code",
   "execution_count": 9,
   "id": "6bcbfa78-6395-4685-b92c-22d592050fd7",
   "metadata": {},
   "outputs": [
    {
     "name": "stdout",
     "output_type": "stream",
     "text": [
      "Here is the list of links on the website of https://amspredict.com/ - please decide which of these are relevant web links for a brochure about the company, respond with the full https URL in JSON format. Do not include Terms of Service, Privacy, email links.\n",
      "Links (some might be relative links):\n",
      "#content\n",
      "/\n",
      "/predict-platform/\n",
      "/payment-integrity/\n",
      "/risk-management/\n",
      "/business-intelligence\n",
      "/company\n",
      "/insights-updates\n",
      "https://amspredict.com/resources/\n",
      "https://amspredict.com/book-demo/\n",
      "https://predict.mdstrat.com\n",
      "https://amspredict.com\n",
      "/\n",
      "/predict-platform/\n",
      "/payment-integrity/\n",
      "/risk-management/\n",
      "/business-intelligence\n",
      "/company\n",
      "/insights-updates\n",
      "https://amspredict.com/resources/\n",
      "https://amspredict.com/book-demo/\n",
      "https://predict.mdstrat.com\n",
      "https://amspredict.com\n",
      "/book-demo\n",
      "https://predict.mdstrat.com\n",
      "/predict-platform/\n",
      "/book-demo\n",
      "/book-demo\n",
      "/payment-integrity\n",
      "/risk-management\n",
      "/business-intelligence\n",
      "/company\n",
      "/predict-platform\n",
      "/book-demo\n",
      "/\n",
      "https://amspredict.com/payment-integrity/\n",
      "https://amspredict.com/risk-management/\n",
      "https://amspredict.com/business-intelligence/\n",
      "https://amspredict.com/payment-integrity/\n",
      "https://amspredict.com/risk-management/\n",
      "https://amspredict.com/business-intelligence/\n",
      "/company\n",
      "https://amspredict.com/resources/\n",
      "https://amspredict.com/careers/\n",
      "/company\n",
      "https://amspredict.com/resources/\n",
      "https://amspredict.com/careers/\n",
      "tel:855.224.9711\n",
      "tel:781.224.9711\n",
      "mailto:info@amspredict.com\n",
      "/\n",
      "https://www.linkedin.com/company/advanced-medical-strategies-llc/\n",
      "https://twitter.com/AMSmdstratcom\n"
     ]
    }
   ],
   "source": [
    "print(get_links_user_prompt(data))"
   ]
  },
  {
   "cell_type": "code",
   "execution_count": 10,
   "id": "a29aca19-ca13-471c-a4b4-5abbfa813f69",
   "metadata": {},
   "outputs": [],
   "source": [
    "def get_links(url):\n",
    "    website = Website(url)\n",
    "    response = openai.chat.completions.create(\n",
    "        model=chat_model_id,\n",
    "        messages=[\n",
    "            {\"role\": \"system\", \"content\": link_system_prompt},\n",
    "            {\"role\": \"user\", \"content\": get_links_user_prompt(website)}\n",
    "      ]\n",
    "    )\n",
    "    result = response.choices[0].message.content\n",
    "    return json.loads(result)"
   ]
  },
  {
   "cell_type": "code",
   "execution_count": 11,
   "id": "74a827a0-2782-4ae5-b210-4a242a8b4cc2",
   "metadata": {},
   "outputs": [
    {
     "data": {
      "text/plain": [
       "['#content',\n",
       " '/',\n",
       " '/predict-platform/',\n",
       " '/payment-integrity/',\n",
       " '/risk-management/',\n",
       " '/business-intelligence',\n",
       " '/company',\n",
       " '/insights-updates',\n",
       " 'https://amspredict.com/resources/',\n",
       " 'https://amspredict.com/book-demo/',\n",
       " 'https://predict.mdstrat.com',\n",
       " 'https://amspredict.com',\n",
       " '/',\n",
       " '/predict-platform/',\n",
       " '/payment-integrity/',\n",
       " '/risk-management/',\n",
       " '/business-intelligence',\n",
       " '/company',\n",
       " '/insights-updates',\n",
       " 'https://amspredict.com/resources/',\n",
       " 'https://amspredict.com/book-demo/',\n",
       " 'https://predict.mdstrat.com',\n",
       " 'https://amspredict.com',\n",
       " '/book-demo',\n",
       " 'https://predict.mdstrat.com',\n",
       " '/predict-platform/',\n",
       " '/book-demo',\n",
       " '/book-demo',\n",
       " '/payment-integrity',\n",
       " '/risk-management',\n",
       " '/business-intelligence',\n",
       " '/company',\n",
       " '/predict-platform',\n",
       " '/book-demo',\n",
       " '/',\n",
       " 'https://amspredict.com/payment-integrity/',\n",
       " 'https://amspredict.com/risk-management/',\n",
       " 'https://amspredict.com/business-intelligence/',\n",
       " 'https://amspredict.com/payment-integrity/',\n",
       " 'https://amspredict.com/risk-management/',\n",
       " 'https://amspredict.com/business-intelligence/',\n",
       " '/company',\n",
       " 'https://amspredict.com/resources/',\n",
       " 'https://amspredict.com/careers/',\n",
       " '/company',\n",
       " 'https://amspredict.com/resources/',\n",
       " 'https://amspredict.com/careers/',\n",
       " 'tel:855.224.9711',\n",
       " 'tel:781.224.9711',\n",
       " 'mailto:info@amspredict.com',\n",
       " '/',\n",
       " 'https://www.linkedin.com/company/advanced-medical-strategies-llc/',\n",
       " 'https://twitter.com/AMSmdstratcom']"
      ]
     },
     "execution_count": 11,
     "metadata": {},
     "output_type": "execute_result"
    }
   ],
   "source": [
    "huggingface = Website(\"https://amspredict.com/\")\n",
    "huggingface.links"
   ]
  },
  {
   "cell_type": "code",
   "execution_count": 12,
   "id": "d3d583e2-dcc4-40cc-9b28-1e8dbf402924",
   "metadata": {},
   "outputs": [
    {
     "data": {
      "text/plain": [
       "{'links': [{'type': 'predict platform',\n",
       "   'url': 'https://amspredict.com/predict-platform/'},\n",
       "  {'type': 'payment integrity',\n",
       "   'url': 'https://amspredict.com/payment-integrity/'},\n",
       "  {'type': 'risk management',\n",
       "   'url': 'https://amspredict.com/risk-management/'},\n",
       "  {'type': 'business intelligence',\n",
       "   'url': 'https://amspredict.com/business-intelligence/'},\n",
       "  {'type': 'company', 'url': 'https://amspredict.com/company/'},\n",
       "  {'type': 'insights updates',\n",
       "   'url': 'https://amspredict.com/insights-updates/'},\n",
       "  {'type': 'resources', 'url': 'https://amspredict.com/resources/'},\n",
       "  {'type': 'book demo', 'url': 'https://amspredict.com/book-demo/'},\n",
       "  {'type': 'careers', 'url': 'https://amspredict.com/careers/'},\n",
       "  {'type': 'linkedin',\n",
       "   'url': 'https://www.linkedin.com/company/advanced-medical-strategies-llc/'},\n",
       "  {'type': 'twitter', 'url': 'https://twitter.com/AMSmdstratcom'}]}"
      ]
     },
     "execution_count": 12,
     "metadata": {},
     "output_type": "execute_result"
    }
   ],
   "source": [
    "get_links(\"https://amspredict.com/\")"
   ]
  },
  {
   "cell_type": "code",
   "execution_count": 13,
   "id": "85a5b6e2-e7ef-44a9-bc7f-59ede71037b5",
   "metadata": {},
   "outputs": [],
   "source": [
    "def get_all_details(url):\n",
    "    result = \"Landing page:\\n\"\n",
    "    result += Website(url).get_contents()\n",
    "    links = get_links(url)\n",
    "    print(\"Found links:\", links)\n",
    "    for link in links[\"links\"]:\n",
    "        result += f\"\\n\\n{link['type']}\\n\"\n",
    "        result += Website(link[\"url\"]).get_contents()\n",
    "    return result"
   ]
  },
  {
   "cell_type": "code",
   "execution_count": 29,
   "id": "9b863a55-f86c-4e3f-8a79-94e24c1a8cf2",
   "metadata": {},
   "outputs": [],
   "source": [
    "system_prompt = \"You are an assistant that analyzes the contents of several relevant pages from a company website \\\n",
    "and creates a short brochure about the company for prospective customers, investors and recruits. Respond in markdown.\\\n",
    "Include details of company culture, customers and careers/jobs if you have the information.\"\n",
    "# system_prompt = \"You are an assistant that analyzes the contents of several relevant pages from a company website \\\n",
    "# and creates a short humorous, entertaining, jokey brochure about the company for prospective customers, investors and recruits. Respond in markdown.\\\n",
    "# Include details of company culture, customers and careers/jobs if you have the information.\""
   ]
  },
  {
   "cell_type": "code",
   "execution_count": 15,
   "id": "6ab83d92-d36b-4ce0-8bcc-5bb4c2f8ff23",
   "metadata": {},
   "outputs": [],
   "source": [
    "def get_brochure_user_prompt(company_name, url):\n",
    "    user_prompt = f\"You are looking at a company called: {company_name}\\n\"\n",
    "    user_prompt += f\"Here are the contents of its landing page and other relevant pages; use this information to build a short brochure of the company in markdown.\\n\"\n",
    "    user_prompt += get_all_details(url)\n",
    "    user_prompt = user_prompt[:5_000] # Truncate if more than 5,000 characters\n",
    "    return user_prompt"
   ]
  },
  {
   "cell_type": "code",
   "execution_count": 16,
   "id": "cd909e0b-1312-4ce2-a553-821e795d7572",
   "metadata": {},
   "outputs": [
    {
     "name": "stdout",
     "output_type": "stream",
     "text": [
      "Found links: {'links': [{'type': 'Predict Platform', 'url': 'https://amspredict.com/predict-platform/'}, {'type': 'Payment Integrity', 'url': 'https://amspredict.com/payment-integrity/'}, {'type': 'Risk Management', 'url': 'https://amspredict.com/risk-management/'}, {'type': 'Business Intelligence', 'url': 'https://amspredict.com/business-intelligence/'}, {'type': 'Company', 'url': 'https://amspredict.com/company/'}, {'type': 'Resources', 'url': 'https://amspredict.com/resources/'}, {'type': 'Book Demo', 'url': 'https://amspredict.com/book-demo/'}, {'type': 'Careers', 'url': 'https://amspredict.com/careers/'}]}\n"
     ]
    },
    {
     "data": {
      "text/plain": [
       "'You are looking at a company called: AMS\\nHere are the contents of its landing page and other relevant pages; use this information to build a short brochure of the company in markdown.\\nLanding page:\\nWebpage Title:\\nAdvanced Medical Strategies (AMS) | Healthcare Analytics\\nWebpage Contents:\\nSkip to content\\nSolutions\\nPREDICT Platform\\nDiscover how our cutting-edge technology delivers unrivaled predictive insights for health plans, payers, underwriters, and more.\\nExplore now\\nPayment integrity\\nAccelerate savings with automated workflows.\\nRisk management\\nPredict and plan for the highest-cost claims.\\nBusiness intelligence\\nGet data-driven contract and policy insights.\\nCompany\\nOur team\\nMeet our world-class experts & innovators.\\nUpdates & insights\\nGet the latest news & insights from AMS.\\nResources\\nBook demo\\nMembers\\nX\\nSolutions\\nPREDICT Platform\\nDiscover how our cutting-edge technology delivers unrivaled predictive insights for health plans, payers, underwriters, and more.\\nExplore now\\nPayment integrity\\nAccelerate savings with automated workflows.\\nRisk management\\nPredict and plan for the highest-cost claims.\\nBusiness intelligence\\nGet data-driven contract and policy insights.\\nCompany\\nOur team\\nMeet our world-class experts & innovators.\\nUpdates & insights\\nGet the latest news & insights from AMS.\\nResources\\nBook demo\\nMembers\\nX\\nBook demo\\nMembers\\nAdvanced Medical Strategies (AMS)\\nWelcome to the premier provider of\\npayment integrity\\n,\\nrisk management\\n,\\nand\\nbusiness intelligence\\nsolutions to identify and address excessive claims, prevent and recoup overpayments, and effectively manage the risks associated with high-cost claimants\\nand group health underwriting.\\nGet started\\nNEW SOLUTION\\nPredictPx: Achieve unprecedented price transparency\\nOur latest PREDICT tool triangulates hospital price transparency data, health plan transparency in coverage data, and medicare pricing to bring unrivaled clarity to your payment integrity workflows.\\nRequest a demo\\nNEW SOLUTION\\nOUR SOLUTIONS\\nOptimizing healthcare costs & quality with cutting-edge automation\\nPayment Integrity\\nExplore cutting-edge solutions that empower your team to automate payment integrity processes, avoid or recover overpayments, and reduce outsourcing costs.\\nExplore Solutions\\nRisk Management\\nEnhance critical coverage decisions with analytical tools that support >90% of all stop-loss and reinsurance premiums written annually.\\nExplore Solutions\\nBusiness Intelligence\\nStrengthen your contracts and policies with powerful predictive analytics, advanced reporting tools, and consultative support.\\nExplore Solutions\\nTotal billed charges\\n analyzed\\n$6,421,226,350,099\\nMEET AMS\\nBringing clarity to healthcare costs for over 20 years\\nSince Day 1, we’ve made it our mission to make healthcare more affordable, efficient, and effective for everyone. Ever since, our clinical experts, technologists, data scientists have been united and inspired by that one pursuit.\\nMore about AMS\\nPREDICT PLATFORM\\nRevolutionizing payment integrity & risk management\\nOur industry-leading solutions are built on one of the most versatile and comprehensive analytic platforms ever built for healthcare. PREDICT delivers all the data and insights our expert customers need to pinpoint excessive claims, avoid or recover overpayments, and manage risks associated with high-cost claimants.\\nExplore solutions\\nPREDICT PLATFORM\\nStrategic insights\\nStrategic insights\\nSurface them in seconds with the industry’s leading claims analytics.\\nSurface them in seconds with the industry’s leading claims analytics.\\nFlexible subscriptions\\nFlexible subscriptions\\nPay a non-contingency subscription for individual solutions or an enterprise subscription for our full platform.\\nPay a non-contingency subscription for individual solutions or an enterprise subscription for our full platform.\\nMinimal integration\\nMinimal integration\\nOur solutions can be rapidly installed and easily accessed with no customer IT lift.\\nOur solutions can be rapidly installed and easily accessed with no customer IT lift.\\nRobust security\\nRobust security\\nThe safety of your data is our top priority. HITRUST certification is just the start.\\nThe safety of your data is our top priority. HITRUST certification is just the start.\\nStrategic insights\\nStrategic insights\\nSurface them in seconds with the industry’s leading claims analytics.\\nSurface them in seconds with the industry’s leading claims analytics.\\nFlexible subscriptions\\nFlexible subscriptions\\nPay a non-contingency subscription for individual solutions or an enterprise subscription for our full platform.\\nPay a non-contingency subscription for individual solutions or an enterprise subscription for our full platform.\\nMinimal integration\\nMinimal integration\\nOur solutions can be rapidly installed and easily accessed with no customer IT lift.\\nOur solutions can be rapidly installed and easily accessed with no customer IT lift.\\nRobust security\\nRobust security\\nThe safety of your data is our top priority. HITRUST certification is just the start.'"
      ]
     },
     "execution_count": 16,
     "metadata": {},
     "output_type": "execute_result"
    }
   ],
   "source": [
    "get_brochure_user_prompt(\"AMS\", \"https://amspredict.com/\")"
   ]
  },
  {
   "cell_type": "code",
   "execution_count": 17,
   "id": "e44de579-4a1a-4e6a-a510-20ea3e4b8d46",
   "metadata": {},
   "outputs": [],
   "source": [
    "def create_brochure(company_name, url):\n",
    "    response = openai.chat.completions.create(\n",
    "        model=chat_model_id,\n",
    "        messages=[\n",
    "            {\"role\": \"system\", \"content\": system_prompt},\n",
    "            {\"role\": \"user\", \"content\": get_brochure_user_prompt(company_name, url)}\n",
    "          ],\n",
    "    )\n",
    "    result = response.choices[0].message.content\n",
    "    display(Markdown(result))"
   ]
  },
  {
   "cell_type": "code",
   "execution_count": 25,
   "id": "e093444a-9407-42ae-924a-145730591a39",
   "metadata": {},
   "outputs": [
    {
     "name": "stdout",
     "output_type": "stream",
     "text": [
      "Found links: {'links': [{'type': 'predict platform', 'url': 'https://amspredict.com/predict-platform/'}, {'type': 'payment integrity', 'url': 'https://amspredict.com/payment-integrity/'}, {'type': 'risk management', 'url': 'https://amspredict.com/risk-management/'}, {'type': 'business intelligence', 'url': 'https://amspredict.com/business-intelligence/'}, {'type': 'company', 'url': 'https://amspredict.com/company/'}, {'type': 'insights and updates', 'url': 'https://amspredict.com/insights-updates/'}, {'type': 'resources', 'url': 'https://amspredict.com/resources/'}, {'type': 'book demo', 'url': 'https://amspredict.com/book-demo/'}, {'type': 'careers', 'url': 'https://amspredict.com/careers/'}, {'type': 'LinkedIn page', 'url': 'https://www.linkedin.com/company/advanced-medical-strategies-llc/'}, {'type': 'Twitter page', 'url': 'https://twitter.com/AMSmdstratcom'}]}\n"
     ]
    },
    {
     "data": {
      "text/markdown": [
       "# AMS - Healthcare Analytics for Optimizing Costs and Quality\n",
       "\n",
       "AMS is a premier provider of payment integrity, risk management, and business intelligence solutions for identifying and addressing excessive claims, preventing and recouping overpayments, and effectively managing the risks associated with high-cost claimants and group health underwriting. \n",
       "\n",
       "## Solutions\n",
       "\n",
       "AMS offers cutting-edge solutions to support healthcare cost and quality optimization, which include:\n",
       "\n",
       "### PREDICT Platform\n",
       "\n",
       "AMS's industry-leading solutions are built on one of the most versatile and comprehensive analytical platforms ever built for healthcare, designed to deliver all the data and insights healthcare professionals need to pinpoint excessive claims, avoid or recover overpayments, and manage risks associated with high-cost claimants.\n",
       "\n",
       "### Payment Integrity\n",
       "\n",
       "AMS offers automated payment integrity processes that empower teams to avoid or recover overpayments, reduce outsourcing costs, and automate payment integrity workflows.\n",
       "\n",
       "### Risk Management\n",
       "\n",
       "AMS enhances critical coverage decisions with analytical tools that support more than 90% of all stop-loss and reinsurance premiums written annually, enabling customers to predict and plan for the highest-cost claims.\n",
       "\n",
       "### Business Intelligence\n",
       "\n",
       "AMS strengthens contracts and policies with powerful predictive analytics, advanced reporting tools, and consultative support. The company provides data-driven contract and policy insights to help customers make informed decisions.\n",
       "\n",
       "## Company Culture\n",
       "\n",
       "At AMS, the clinical experts, technologists, and data scientists strive to make healthcare more affordable, efficient, and effective for everyone. Since their inception, they have been united and inspired by this pursuit. \n",
       "\n",
       "## Customers\n",
       "\n",
       "AMS's payment integrity, risk management, and business intelligence solutions cater to health plans, payers, underwriters, and other healthcare professionals who seek to optimize costs and improve quality.\n",
       "\n",
       "## Careers/Jobs\n",
       "\n",
       "There is no information available on the website about AMS's job openings. Interested candidates can visit the \"Our Team\" page to learn more about their world-class experts and innovators and make an inquiry by clicking on the \"Contact Us\" button. \n",
       "\n",
       "Get started with optimizing healthcare costs and quality with AMS today."
      ],
      "text/plain": [
       "<IPython.core.display.Markdown object>"
      ]
     },
     "metadata": {},
     "output_type": "display_data"
    }
   ],
   "source": [
    "create_brochure(\"AMS\", \"https://amspredict.com/\")"
   ]
  },
  {
   "cell_type": "code",
   "execution_count": 26,
   "id": "51db0e49-f261-4137-aabe-92dd601f7725",
   "metadata": {},
   "outputs": [],
   "source": [
    "def stream_brochure(company_name, url):\n",
    "    stream = openai.chat.completions.create(\n",
    "        model=chat_model_id,\n",
    "        messages=[\n",
    "            {\"role\": \"system\", \"content\": system_prompt},\n",
    "            {\"role\": \"user\", \"content\": get_brochure_user_prompt(company_name, url)}\n",
    "          ],\n",
    "        stream=True\n",
    "    )\n",
    "    \n",
    "    response = \"\"\n",
    "    display_handle = display(Markdown(\"\"), display_id=True)\n",
    "    for chunk in stream:\n",
    "        response += chunk.choices[0].delta.content or ''\n",
    "        response = response.replace(\"```\",\"\").replace(\"markdown\", \"\")\n",
    "        update_display(Markdown(response), display_id=display_handle.display_id)"
   ]
  },
  {
   "cell_type": "code",
   "execution_count": null,
   "id": "fdb3f8d8-a3eb-41c8-b1aa-9f60686a653b",
   "metadata": {},
   "outputs": [],
   "source": [
    "stream_brochure(\"AMS\", \"https://amspredict.com/\")"
   ]
  }
 ],
 "metadata": {
  "kernelspec": {
   "display_name": "Python 3 (ipykernel)",
   "language": "python",
   "name": "python3"
  },
  "language_info": {
   "codemirror_mode": {
    "name": "ipython",
    "version": 3
   },
   "file_extension": ".py",
   "mimetype": "text/x-python",
   "name": "python",
   "nbconvert_exporter": "python",
   "pygments_lexer": "ipython3",
   "version": "3.11.11"
  }
 },
 "nbformat": 4,
 "nbformat_minor": 5
}
